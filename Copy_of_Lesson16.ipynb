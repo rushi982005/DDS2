{
  "cells": [
    {
      "cell_type": "markdown",
      "metadata": {
        "id": "view-in-github",
        "colab_type": "text"
      },
      "source": [
        "<a href=\"https://colab.research.google.com/github/rushi982005/DDS2/blob/main/Copy_of_Lesson16.ipynb\" target=\"_parent\"><img src=\"https://colab.research.google.com/assets/colab-badge.svg\" alt=\"Open In Colab\"/></a>"
      ]
    },
    {
      "cell_type": "markdown",
      "metadata": {
        "id": "2Zw22h9tZgnd"
      },
      "source": [
        "# Lesson 16: Linked List Operations in C++\n",
        "In this lesson, we will study the concept of **Linked Lists**, a dynamic data structure, and understand how to perform fundamental operations like:\n",
        "- Traversing\n",
        "- Searching\n",
        "- Inserting\n",
        "- Deleting\n",
        "\n",
        "We will learn:\n",
        "- Definition and importance of Linked Lists\n",
        "- Algorithms for each operation\n",
        "- Practical implementation in C++"
      ],
      "id": "2Zw22h9tZgnd"
    },
    {
      "cell_type": "markdown",
      "metadata": {
        "id": "p1CX3tP9Zgno"
      },
      "source": [
        "## 🧠 What is a Linked List?\n",
        "A **Linked List** is a linear data structure in which elements are stored in nodes and connected by pointers. Unlike arrays, they do not require contiguous memory allocation.\n",
        "\n",
        "**Each node contains:**\n",
        "- `data`: the actual value\n",
        "- `next`: a pointer to the next node\n",
        "\n",
        "**Advantages:**\n",
        "- Dynamic size\n",
        "- Efficient insertion/deletion\n",
        "\n",
        "**Disadvantages:**\n",
        "- No random access (like arrays)\n",
        "- Extra memory for pointers"
      ],
      "id": "p1CX3tP9Zgno"
    },
    {
      "cell_type": "markdown",
      "metadata": {
        "id": "DQ5obz_gZgnr"
      },
      "source": [
        "### 📋 Structure of a Node in C++:"
      ],
      "id": "DQ5obz_gZgnr"
    },
    {
      "cell_type": "code",
      "execution_count": null,
      "metadata": {
        "id": "IvVYphCoZgnt"
      },
      "outputs": [],
      "source": [
        "struct Node {\n",
        "    int data;\n",
        "    Node* next;\n",
        "};"
      ],
      "id": "IvVYphCoZgnt"
    },
    {
      "cell_type": "markdown",
      "metadata": {
        "id": "5a9XD48IZgnx"
      },
      "source": [
        "## 🔁 Traverse Operation\n",
        "**Definition:** Visiting each node from the start to the end of the list.\n",
        "\n",
        "**Algorithm:**\n",
        "1. Start from `head`.\n",
        "2. Print `data` of the current node.\n",
        "3. Move to the next node.\n",
        "4. Repeat until `next` is `NULL`."
      ],
      "id": "5a9XD48IZgnx"
    },
    {
      "cell_type": "code",
      "execution_count": null,
      "metadata": {
        "id": "fFNW-oiTZgny"
      },
      "outputs": [],
      "source": [
        "void traverse(Node* head) {\n",
        "    Node* temp = head;\n",
        "    while (temp != nullptr) {\n",
        "        std::cout << temp->data << \" -> \";\n",
        "        temp = temp->next;\n",
        "    }\n",
        "    std::cout << \"NULL\" << std::endl;\n",
        "}"
      ],
      "id": "fFNW-oiTZgny"
    },
    {
      "cell_type": "markdown",
      "metadata": {
        "id": "OBs_b6NGZgnz"
      },
      "source": [
        "## 🔍 Search Operation\n",
        "**Definition:** Find if a value exists in the list.\n",
        "\n",
        "**Algorithm:**\n",
        "1. Start from `head`.\n",
        "2. If `data` matches key, return true.\n",
        "3. Else, move to `next`.\n",
        "4. If end reached, return false."
      ],
      "id": "OBs_b6NGZgnz"
    },
    {
      "cell_type": "code",
      "execution_count": null,
      "metadata": {
        "id": "TmpDWvp5Zgn0"
      },
      "outputs": [],
      "source": [
        "bool search(Node* head, int key) {\n",
        "    Node* temp = head;\n",
        "    while (temp != nullptr) {\n",
        "        if (temp->data == key)\n",
        "            return true;\n",
        "        temp = temp->next;\n",
        "    }\n",
        "    return false;\n",
        "}"
      ],
      "id": "TmpDWvp5Zgn0"
    },
    {
      "cell_type": "markdown",
      "metadata": {
        "id": "D2fgZz-HZgn1"
      },
      "source": [
        "## ➕ Insert Operation (At Beginning)\n",
        "**Definition:** Add a new node at the beginning.\n",
        "\n",
        "**Algorithm:**\n",
        "1. Create a new node.\n",
        "2. Set its `data`.\n",
        "3. Point `next` to `head`.\n",
        "4. Make the new node as `head`."
      ],
      "id": "D2fgZz-HZgn1"
    },
    {
      "cell_type": "code",
      "execution_count": null,
      "metadata": {
        "id": "9t-kws0mZgn2"
      },
      "outputs": [],
      "source": [
        "void insertAtBeginning(Node*& head, int newData) {\n",
        "    Node* newNode = new Node();\n",
        "    newNode->data = newData;\n",
        "    newNode->next = head;\n",
        "    head = newNode;\n",
        "}"
      ],
      "id": "9t-kws0mZgn2"
    },
    {
      "cell_type": "markdown",
      "metadata": {
        "id": "M8JwpSrmZgn3"
      },
      "source": [
        "## ❌ Delete Operation\n",
        "**Definition:** Delete a node with specific value.\n",
        "\n",
        "**Algorithm:**\n",
        "1. If head is the key, delete and update head.\n",
        "2. Traverse until the key is found.\n",
        "3. Change previous node’s next to skip the node.\n",
        "4. Delete the node."
      ],
      "id": "M8JwpSrmZgn3"
    },
    {
      "cell_type": "code",
      "execution_count": null,
      "metadata": {
        "id": "DmNAI7jzZgn8"
      },
      "outputs": [],
      "source": [
        "void deleteNode(Node*& head, int key) {\n",
        "    Node* temp = head;\n",
        "    Node* prev = nullptr;\n",
        "\n",
        "    if (temp != nullptr && temp->data == key) {\n",
        "        head = temp->next;\n",
        "        delete temp;\n",
        "        return;\n",
        "    }\n",
        "\n",
        "    while (temp != nullptr && temp->data != key) {\n",
        "        prev = temp;\n",
        "        temp = temp->next;\n",
        "    }\n",
        "\n",
        "    if (temp == nullptr) return;\n",
        "    prev->next = temp->next;\n",
        "    delete temp;\n",
        "}"
      ],
      "id": "DmNAI7jzZgn8"
    }
  ],
  "metadata": {
    "kernelspec": {
      "display_name": "C++",
      "language": "C++",
      "name": "xcpp14"
    },
    "language_info": {
      "name": "C++",
      "version": "14"
    },
    "colab": {
      "provenance": [],
      "include_colab_link": true
    }
  },
  "nbformat": 4,
  "nbformat_minor": 5
}